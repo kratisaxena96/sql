{
 "cells": [
  {
   "cell_type": "code",
   "execution_count": 4,
   "metadata": {},
   "outputs": [
    {
     "data": {
      "text/plain": [
       "(101, 'gaurav', 'python', 21)"
      ]
     },
     "execution_count": 4,
     "metadata": {},
     "output_type": "execute_result"
    }
   ],
   "source": [
    "import pymysql as sql\n",
    "\n",
    "db = sql.connect(host=\"localhost\",port=3306,user=\"root\",password=\"\",database=\"batch9am\")\n",
    "cursor = db.cursor()   #for executing the commands\n",
    "cmd = \"select * from students\"\n",
    "cursor.execute(cmd)\n",
    "#cursor.fetchall()  #that will fetch all the rows from your database\n",
    "cursor.fetchone()   #it will fetch the single tuple"
   ]
  },
  {
   "cell_type": "code",
   "execution_count": 9,
   "metadata": {},
   "outputs": [
    {
     "name": "stdout",
     "output_type": "stream",
     "text": [
      "Overwriting query.py\n"
     ]
    }
   ],
   "source": [
    "%%writefile query.py\n",
    "\n",
    "import pymysql as sql\n",
    "\n",
    "db = sql.connect(host=\"localhost\",port=3306,user=\"root\",password=\"\",database=\"batch9am\")\n",
    "cursor = db.cursor()   \n",
    "\n",
    "table_name = input(\"\\n Enter table name : \")\n",
    "rows = int(input(\"\\n Enter total number of rows : \"))\n",
    "cmd = f\"select * from {table_name}\"\n",
    "cursor.execute(cmd)\n",
    "data = cursor.fetchall()\n",
    "for i in range(rows):\n",
    "        print(data[i])\n",
    "        print(\"*\"*80)"
   ]
  },
  {
   "cell_type": "code",
   "execution_count": 10,
   "metadata": {},
   "outputs": [
    {
     "name": "stdout",
     "output_type": "stream",
     "text": [
      "Writing insert.py\n"
     ]
    }
   ],
   "source": [
    "%%writefile insert.py\n",
    "\n",
    "import pymysql as sql\n",
    "\n",
    "db = sql.connect(host=\"localhost\",port=3306,user=\"root\",password=\"\",database=\"batch9am\")\n",
    "cursor = db.cursor()  \n",
    "\n",
    "while True:\n",
    "    name = input(\"\\n Enter name : \")\n",
    "    course = input(\"\\n Enter course : \")\n",
    "    age = int(input(\"\\n Enter age : \"))\n",
    "    \n",
    "    cmd = f'insert into students(name,course,age) values(\"{name}\",\"{course}\",{age})'\n",
    "    cursor.execute(cmd)\n",
    "    db.commit()  #permanently save the changes\n",
    "    print(\"\\n Data inserted successfully\")\n",
    "    ch = input(\"\\n Do you want to continue or not(yes/no) : \").strip().lower()\n",
    "    if ch == \"no\":\n",
    "        print(\"\\n Okay bye bye\")\n",
    "        break\n",
    "    "
   ]
  },
  {
   "cell_type": "code",
   "execution_count": 1,
   "metadata": {},
   "outputs": [
    {
     "name": "stdout",
     "output_type": "stream",
     "text": [
      " Volume in drive C is Windows\n",
      " Volume Serial Number is E08D-DAD9\n",
      "\n",
      " Directory of C:\\batches\\online_batch\\advance_batch\\database\n",
      "\n",
      "29-05-2020  08:39    <DIR>          .\n",
      "29-05-2020  08:39    <DIR>          ..\n",
      "28-05-2020  09:47    <DIR>          .ipynb_checkpoints\n",
      "29-05-2020  08:39             3,335 Connection.ipynb\n",
      "28-05-2020  10:10               641 insert.py\n",
      "28-05-2020  10:04               399 query.py\n",
      "               3 File(s)          4,375 bytes\n",
      "               3 Dir(s)  66,534,981,632 bytes free\n"
     ]
    }
   ],
   "source": [
    "ls"
   ]
  },
  {
   "cell_type": "code",
   "execution_count": 2,
   "metadata": {},
   "outputs": [],
   "source": [
    "#### sqlite --> file \n",
    "### to connect with the sqlite database --> sqlite3\n",
    "import sqlite3 as sql\n",
    "\n",
    "db = sql.connect(\"employee.db\")   #it will create db in PWD\n",
    "#G://folder//database//database_name"
   ]
  },
  {
   "cell_type": "code",
   "execution_count": 3,
   "metadata": {},
   "outputs": [
    {
     "name": "stdout",
     "output_type": "stream",
     "text": [
      " Volume in drive C is Windows\n",
      " Volume Serial Number is E08D-DAD9\n",
      "\n",
      " Directory of C:\\batches\\online_batch\\advance_batch\\database\n",
      "\n",
      "29-05-2020  08:39    <DIR>          .\n",
      "29-05-2020  08:39    <DIR>          ..\n",
      "28-05-2020  09:47    <DIR>          .ipynb_checkpoints\n",
      "29-05-2020  08:39             3,335 Connection.ipynb\n",
      "29-05-2020  08:39                 0 employee.db\n",
      "28-05-2020  10:10               641 insert.py\n",
      "28-05-2020  10:04               399 query.py\n",
      "               4 File(s)          4,375 bytes\n",
      "               3 Dir(s)  66,533,834,752 bytes free\n"
     ]
    }
   ],
   "source": [
    "ls"
   ]
  },
  {
   "cell_type": "code",
   "execution_count": 4,
   "metadata": {},
   "outputs": [
    {
     "name": "stdout",
     "output_type": "stream",
     "text": [
      "\n",
      " Table is created....\n"
     ]
    }
   ],
   "source": [
    "import sqlite3 as sql\n",
    "\n",
    "db = sql.connect(\"employee.db\")\n",
    "cursor = db.cursor()\n",
    "\n",
    "cmd = \"create table employee(eid int(5),name varchar(100),address varchar(100))\"\n",
    "cursor.execute(cmd)\n",
    "print(\"\\n Table is created....\")"
   ]
  },
  {
   "cell_type": "code",
   "execution_count": 5,
   "metadata": {},
   "outputs": [
    {
     "name": "stdout",
     "output_type": "stream",
     "text": [
      " Volume in drive C is Windows\n",
      " Volume Serial Number is E08D-DAD9\n",
      "\n",
      " Directory of C:\\batches\\online_batch\\advance_batch\\database\n",
      "\n",
      "29-05-2020  08:42    <DIR>          .\n",
      "29-05-2020  08:42    <DIR>          ..\n",
      "28-05-2020  09:47    <DIR>          .ipynb_checkpoints\n",
      "29-05-2020  08:41             5,396 Connection.ipynb\n",
      "29-05-2020  08:42             8,192 employee.db\n",
      "28-05-2020  10:10               641 insert.py\n",
      "28-05-2020  10:04               399 query.py\n",
      "               4 File(s)         14,628 bytes\n",
      "               3 Dir(s)  66,495,258,624 bytes free\n"
     ]
    }
   ],
   "source": [
    "ls"
   ]
  },
  {
   "cell_type": "code",
   "execution_count": 6,
   "metadata": {},
   "outputs": [
    {
     "name": "stdout",
     "output_type": "stream",
     "text": [
      "\n",
      " Employee id : 1\n",
      "\n",
      " Enter name : simran\n",
      "\n",
      " Enter address : raja park\n",
      "\n",
      " Data inserted successsfully...\n",
      "\n",
      " Continue yes/no : yes\n",
      "\n",
      " Employee id : 2\n",
      "\n",
      " Enter name : sachin\n",
      "\n",
      " Enter address : vaishali nagar\n",
      "\n",
      " Data inserted successsfully...\n",
      "\n",
      " Continue yes/no : no\n",
      "\n",
      " Thanks for coming.....\n"
     ]
    }
   ],
   "source": [
    "### insert into database\n",
    "\n",
    "import sqlite3 as sql\n",
    "\n",
    "db = sql.connect(\"employee.db\")\n",
    "cursor = db.cursor()\n",
    "\n",
    "while True:\n",
    "    eid = int(input(\"\\n Employee id : \"))\n",
    "    name = input(\"\\n Enter name : \")\n",
    "    address = input(\"\\n Enter address : \")\n",
    "    cursor.execute(f\"insert into employee values({eid},'{name}','{address}')\")\n",
    "    db.commit()\n",
    "    print(\"\\n Data inserted successsfully...\")\n",
    "    ch = input(\"\\n Continue yes/no : \").strip().lower()\n",
    "    if ch == \"no\":\n",
    "        print(\"\\n Thanks for coming.....\")\n",
    "        break"
   ]
  },
  {
   "cell_type": "code",
   "execution_count": 9,
   "metadata": {},
   "outputs": [
    {
     "name": "stdout",
     "output_type": "stream",
     "text": [
      "\n",
      " ID :  1\n",
      "\n",
      " Name :  simran\n",
      "\n",
      " Address :  raja park\n",
      "######################################################################\n",
      "\n",
      " ID :  2\n",
      "\n",
      " Name :  sachin\n",
      "\n",
      " Address :  vaishali nagar\n",
      "######################################################################\n"
     ]
    }
   ],
   "source": [
    "import sqlite3 as sql\n",
    "\n",
    "db = sql.connect(\"employee.db\")\n",
    "cursor = db.cursor()\n",
    "\n",
    "cmd = \"select * from employee\"\n",
    "cursor.execute(cmd)\n",
    "data = cursor.fetchall()\n",
    "for i in data:\n",
    "    print(\"\\n ID : \",i[0])\n",
    "    print(\"\\n Name : \",i[1])\n",
    "    print(\"\\n Address : \",i[2])\n",
    "    print(\"#\"*70)"
   ]
  },
  {
   "cell_type": "code",
   "execution_count": 10,
   "metadata": {},
   "outputs": [],
   "source": [
    "### your task is to fetch the data and print it into a table format"
   ]
  },
  {
   "cell_type": "markdown",
   "metadata": {},
   "source": [
    "                            Framework\n",
    "                                We can build any web application using the framework\n",
    "                                We can use the inbuilt libraries and modules using framework\n",
    "                                \n",
    "                            Python -->Flask,Django,Dash\n",
    "                            \n",
    "                            Difference between flask and django????\n",
    "                            Real time applications of flask and django????"
   ]
  },
  {
   "cell_type": "markdown",
   "metadata": {},
   "source": [
    "##### Flask\n",
    "\n",
    "                    1. templates --> html\n",
    "                    2. static --> images,css,bs,js,......\n",
    "                    3. app.py (backend)\n",
    "                    \n",
    "                    (frontend --> html,css,bs,images.....)\n",
    "                    \n",
    "                    \n",
    "                    Jinja --> Templating Engine of Python\n",
    "                        Dynamic --> html pages\n",
    "                        \n",
    "                    WSGI --> Web Server Gateway Interface\n",
    "                            Werkzeug\n",
    "                          "
   ]
  },
  {
   "cell_type": "code",
   "execution_count": null,
   "metadata": {},
   "outputs": [],
   "source": []
  }
 ],
 "metadata": {
  "kernelspec": {
   "display_name": "Python 3",
   "language": "python",
   "name": "python3"
  },
  "language_info": {
   "codemirror_mode": {
    "name": "ipython",
    "version": 3
   },
   "file_extension": ".py",
   "mimetype": "text/x-python",
   "name": "python",
   "nbconvert_exporter": "python",
   "pygments_lexer": "ipython3",
   "version": "3.7.4"
  }
 },
 "nbformat": 4,
 "nbformat_minor": 2
}
