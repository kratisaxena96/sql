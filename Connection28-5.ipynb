{
 "cells": [
  {
   "cell_type": "code",
   "execution_count": 4,
   "metadata": {},
   "outputs": [
    {
     "data": {
      "text/plain": [
       "(101, 'gaurav', 'python', 21)"
      ]
     },
     "execution_count": 4,
     "metadata": {},
     "output_type": "execute_result"
    }
   ],
   "source": [
    "import pymysql as sql\n",
    "\n",
    "db = sql.connect(host=\"localhost\",port=3306,user=\"root\",password=\"\",database=\"batch9am\")\n",
    "cursor = db.cursor()   #for executing the commands\n",
    "cmd = \"select * from students\"\n",
    "cursor.execute(cmd)\n",
    "#cursor.fetchall()  #that will fetch all the rows from your database\n",
    "cursor.fetchone()   #it will fetch the single tuple"
   ]
  },
  {
   "cell_type": "code",
   "execution_count": 9,
   "metadata": {},
   "outputs": [
    {
     "name": "stdout",
     "output_type": "stream",
     "text": [
      "Overwriting query.py\n"
     ]
    }
   ],
   "source": [
    "%%writefile query.py\n",
    "\n",
    "import pymysql as sql\n",
    "\n",
    "db = sql.connect(host=\"localhost\",port=3306,user=\"root\",password=\"\",database=\"batch9am\")\n",
    "cursor = db.cursor()   \n",
    "\n",
    "table_name = input(\"\\n Enter table name : \")\n",
    "rows = int(input(\"\\n Enter total number of rows : \"))\n",
    "cmd = f\"select * from {table_name}\"\n",
    "cursor.execute(cmd)\n",
    "data = cursor.fetchall()\n",
    "for i in range(rows):\n",
    "        print(data[i])\n",
    "        print(\"*\"*80)"
   ]
  },
  {
   "cell_type": "code",
   "execution_count": 10,
   "metadata": {},
   "outputs": [
    {
     "name": "stdout",
     "output_type": "stream",
     "text": [
      "Writing insert.py\n"
     ]
    }
   ],
   "source": [
    "%%writefile insert.py\n",
    "\n",
    "import pymysql as sql\n",
    "\n",
    "db = sql.connect(host=\"localhost\",port=3306,user=\"root\",password=\"\",database=\"batch9am\")\n",
    "cursor = db.cursor()  \n",
    "\n",
    "while True:\n",
    "    name = input(\"\\n Enter name : \")\n",
    "    course = input(\"\\n Enter course : \")\n",
    "    age = int(input(\"\\n Enter age : \"))\n",
    "    \n",
    "    cmd = f'insert into students(name,course,age) values(\"{name}\",\"{course}\",{age})'\n",
    "    cursor.execute(cmd)\n",
    "    db.commit()  #permanently save the changes\n",
    "    print(\"\\n Data inserted successfully\")\n",
    "    ch = input(\"\\n Do you want to continue or not(yes/no) : \").strip().lower()\n",
    "    if ch == \"no\":\n",
    "        print(\"\\n Okay bye bye\")\n",
    "        break\n",
    "    "
   ]
  },
  {
   "cell_type": "code",
   "execution_count": null,
   "metadata": {},
   "outputs": [],
   "source": []
  }
 ],
 "metadata": {
  "kernelspec": {
   "display_name": "Python 3",
   "language": "python",
   "name": "python3"
  },
  "language_info": {
   "codemirror_mode": {
    "name": "ipython",
    "version": 3
   },
   "file_extension": ".py",
   "mimetype": "text/x-python",
   "name": "python",
   "nbconvert_exporter": "python",
   "pygments_lexer": "ipython3",
   "version": "3.7.4"
  }
 },
 "nbformat": 4,
 "nbformat_minor": 2
}
